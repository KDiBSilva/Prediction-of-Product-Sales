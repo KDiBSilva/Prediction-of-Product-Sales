{
  "nbformat": 4,
  "nbformat_minor": 0,
  "metadata": {
    "colab": {
      "provenance": [],
      "authorship_tag": "ABX9TyPNm1Jft/m8h49UakvK4zfg",
      "include_colab_link": true
    },
    "kernelspec": {
      "name": "python3",
      "display_name": "Python 3"
    },
    "language_info": {
      "name": "python"
    }
  },
  "cells": [
    {
      "cell_type": "markdown",
      "metadata": {
        "id": "view-in-github",
        "colab_type": "text"
      },
      "source": [
        "<a href=\"https://colab.research.google.com/github/KDiBSilva/Prediction-of-Product-Sales/blob/main/Prediction_of_Product_Sales.ipynb\" target=\"_parent\"><img src=\"https://colab.research.google.com/assets/colab-badge.svg\" alt=\"Open In Colab\"/></a>"
      ]
    },
    {
      "cell_type": "markdown",
      "source": [
        "#**Prediction of Product Sales**"
      ],
      "metadata": {
        "id": "QIB9ZJvPUvPB"
      }
    },
    {
      "cell_type": "markdown",
      "source": [
        "Kristina DiBella Silva"
      ],
      "metadata": {
        "id": "fIbR-QxuSSA7"
      }
    },
    {
      "cell_type": "markdown",
      "source": [
        "##Project Overview"
      ],
      "metadata": {
        "id": "Mer7Zg_ISYEF"
      }
    },
    {
      "cell_type": "markdown",
      "source": [
        "##Load and Inspect Data"
      ],
      "metadata": {
        "id": "2JkyhNu8SzF7"
      }
    },
    {
      "cell_type": "code",
      "source": [],
      "metadata": {
        "id": "cOsX6GqnS3rA"
      },
      "execution_count": null,
      "outputs": []
    },
    {
      "cell_type": "markdown",
      "source": [
        "##Clean Data"
      ],
      "metadata": {
        "id": "oW_aMkwKS4JR"
      }
    },
    {
      "cell_type": "code",
      "source": [],
      "metadata": {
        "id": "8ieCOT3TTGcd"
      },
      "execution_count": null,
      "outputs": []
    },
    {
      "cell_type": "markdown",
      "source": [
        "##Exploratory Data Analysis"
      ],
      "metadata": {
        "id": "axFVVe6kTGsb"
      }
    },
    {
      "cell_type": "code",
      "source": [],
      "metadata": {
        "id": "dGJFs4kZTKb2"
      },
      "execution_count": null,
      "outputs": []
    },
    {
      "cell_type": "markdown",
      "source": [
        "##Explanatory Data Analysis"
      ],
      "metadata": {
        "id": "26uqbNw0TK1b"
      }
    },
    {
      "cell_type": "code",
      "source": [],
      "metadata": {
        "id": "3UIn4mSATOMB"
      },
      "execution_count": null,
      "outputs": []
    }
  ]
}